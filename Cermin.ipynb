{
 "cells": [
  {
   "cell_type": "code",
   "execution_count": 12,
   "id": "4dfaad6a",
   "metadata": {},
   "outputs": [],
   "source": [
    "import cv2\n",
    "import numpy as np\n",
    "from matplotlib import pyplot as plt"
   ]
  },
  {
   "cell_type": "code",
   "execution_count": 13,
   "id": "07dda579",
   "metadata": {},
   "outputs": [],
   "source": [
    "# membaca citra\n",
    "img = cv2.imread('tiger.jpg')"
   ]
  },
  {
   "cell_type": "code",
   "execution_count": 14,
   "id": "c49f2fb8",
   "metadata": {},
   "outputs": [],
   "source": [
    "# menghitung ukuran citra\n",
    "height, width, channels = img.shape"
   ]
  },
  {
   "cell_type": "code",
   "execution_count": 15,
   "id": "133110d6",
   "metadata": {},
   "outputs": [],
   "source": [
    "# refleksi horizontal\n",
    "horizontal_img = cv2.flip(img, 0)"
   ]
  },
  {
   "cell_type": "code",
   "execution_count": 16,
   "id": "fdb5ca25",
   "metadata": {},
   "outputs": [],
   "source": [
    "# refleksi vertikal\n",
    "vertical_img = cv2.flip(img, 1)"
   ]
  },
  {
   "cell_type": "code",
   "execution_count": 17,
   "id": "eb351495",
   "metadata": {},
   "outputs": [],
   "source": [
    "# menampilkan citra asli dan hasil refleksi\n",
    "cv2.imshow('Citra Asli', img)\n",
    "cv2.imshow('Citra Horizontal', horizontal_img)\n",
    "cv2.imshow('Citra Vertikal', vertical_img)\n",
    "cv2.waitKey(0)\n",
    "cv2.destroyAllWindows()"
   ]
  },
  {
   "cell_type": "code",
   "execution_count": null,
   "id": "9b2faada",
   "metadata": {},
   "outputs": [],
   "source": []
  }
 ],
 "metadata": {
  "kernelspec": {
   "display_name": "Python 3 (ipykernel)",
   "language": "python",
   "name": "python3"
  },
  "language_info": {
   "codemirror_mode": {
    "name": "ipython",
    "version": 3
   },
   "file_extension": ".py",
   "mimetype": "text/x-python",
   "name": "python",
   "nbconvert_exporter": "python",
   "pygments_lexer": "ipython3",
   "version": "3.11.2"
  }
 },
 "nbformat": 4,
 "nbformat_minor": 5
}
