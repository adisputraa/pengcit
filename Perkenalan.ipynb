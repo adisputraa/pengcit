{
 "cells": [
  {
   "cell_type": "markdown",
   "id": "514798c4",
   "metadata": {},
   "source": [
    "# Percobaan 1"
   ]
  },
  {
   "cell_type": "code",
   "execution_count": 1,
   "id": "21cea057",
   "metadata": {},
   "outputs": [
    {
     "name": "stdout",
     "output_type": "stream",
     "text": [
      "Halo, nama saya Adi Setiadi Putra\n"
     ]
    }
   ],
   "source": [
    "print('Halo, nama saya Adi Setiadi Putra')"
   ]
  },
  {
   "cell_type": "code",
   "execution_count": 2,
   "id": "8aabf1f4",
   "metadata": {},
   "outputs": [
    {
     "name": "stdout",
     "output_type": "stream",
     "text": [
      "saya mahasiswa jurusan teknik informatika disalah satu kampus swasta yang ada di Jakarta\n"
     ]
    }
   ],
   "source": [
    "print('saya mahasiswa jurusan teknik informatika disalah satu kampus swasta yang ada di Jakarta')"
   ]
  },
  {
   "cell_type": "code",
   "execution_count": 1,
   "id": "3160bfb3",
   "metadata": {},
   "outputs": [
    {
     "name": "stdout",
     "output_type": "stream",
     "text": [
      "ini merupakan percobaan pertama saya menggunakan python\n"
     ]
    }
   ],
   "source": [
    "print('ini merupakan percobaan pertama saya menggunakan python')"
   ]
  }
 ],
 "metadata": {
  "kernelspec": {
   "display_name": "Python 3 (ipykernel)",
   "language": "python",
   "name": "python3"
  },
  "language_info": {
   "codemirror_mode": {
    "name": "ipython",
    "version": 3
   },
   "file_extension": ".py",
   "mimetype": "text/x-python",
   "name": "python",
   "nbconvert_exporter": "python",
   "pygments_lexer": "ipython3",
   "version": "3.11.2 (tags/v3.11.2:878ead1, Feb  7 2023, 16:38:35) [MSC v.1934 64 bit (AMD64)]"
  },
  "vscode": {
   "interpreter": {
    "hash": "5238573367df39f7286bb46f9ff5f08f63a01a80960060ce41e3c79b190280fa"
   }
  }
 },
 "nbformat": 4,
 "nbformat_minor": 5
}
