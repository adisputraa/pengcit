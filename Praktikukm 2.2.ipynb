{
 "cells": [
  {
   "cell_type": "code",
   "execution_count": 1,
   "id": "51758e1f",
   "metadata": {},
   "outputs": [],
   "source": [
    "import cv2\n",
    "from matplotlib import pyplot as plt"
   ]
  },
  {
   "cell_type": "code",
   "execution_count": 2,
   "id": "bdbc96ca",
   "metadata": {},
   "outputs": [],
   "source": [
    "img = cv2.imread('tiger.jpg')"
   ]
  },
  {
   "cell_type": "code",
   "execution_count": 3,
   "id": "13c11af5",
   "metadata": {},
   "outputs": [],
   "source": [
    "cv2.imshow('tiger', img)\n",
    "cv2.waitKey(0)\n",
    "cv2.destroyAllWindows()"
   ]
  },
  {
   "cell_type": "code",
   "execution_count": 5,
   "id": "e0e77540",
   "metadata": {},
   "outputs": [],
   "source": [
    "grey = cv2.cvtColor(img, cv2.COLOR_BGR2GRAY)"
   ]
  },
  {
   "cell_type": "code",
   "execution_count": 7,
   "id": "98a2bd43",
   "metadata": {},
   "outputs": [],
   "source": [
    "cv2.imshow('grey', grey)\n",
    "cv2.waitKey(0)\n",
    "cv2.destroyAllWindows()"
   ]
  },
  {
   "cell_type": "code",
   "execution_count": 1,
   "id": "5951f860",
   "metadata": {},
   "outputs": [
    {
     "ename": "NameError",
     "evalue": "name 'cv' is not defined",
     "output_type": "error",
     "traceback": [
      "\u001b[1;31m---------------------------------------------------------------------------\u001b[0m",
      "\u001b[1;31mNameError\u001b[0m                                 Traceback (most recent call last)",
      "Cell \u001b[1;32mIn[1], line 1\u001b[0m\n\u001b[1;32m----> 1\u001b[0m (thresh, binary) \u001b[38;5;241m=\u001b[39m \u001b[43mcv\u001b[49m\u001b[38;5;241m.\u001b[39mthreshold(grey, \u001b[38;5;241m128\u001b[39m, \u001b[38;5;241m255\u001b[39m, cv\u001b[38;5;241m.\u001b[39mTHRESH_BINARY \u001b[38;5;241m|\u001b[39m cv\u001b[38;5;241m.\u001b[39mTHRESH_OTSU)\n",
      "\u001b[1;31mNameError\u001b[0m: name 'cv' is not defined"
     ]
    }
   ],
   "source": [
    "(thresh, binary) = cv.threshold(grey, 128, 255, cv.THRESH_BINARY | cv.THRESH_OTSU)"
   ]
  },
  {
   "cell_type": "code",
   "execution_count": null,
   "id": "3f3debe7",
   "metadata": {},
   "outputs": [],
   "source": []
  }
 ],
 "metadata": {
  "kernelspec": {
   "display_name": "Python 3 (ipykernel)",
   "language": "python",
   "name": "python3"
  },
  "language_info": {
   "codemirror_mode": {
    "name": "ipython",
    "version": 3
   },
   "file_extension": ".py",
   "mimetype": "text/x-python",
   "name": "python",
   "nbconvert_exporter": "python",
   "pygments_lexer": "ipython3",
   "version": "3.11.2"
  }
 },
 "nbformat": 4,
 "nbformat_minor": 5
}
