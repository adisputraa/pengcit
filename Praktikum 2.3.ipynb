{
 "cells": [
  {
   "cell_type": "code",
   "execution_count": 1,
   "id": "68a3b5e0",
   "metadata": {},
   "outputs": [],
   "source": [
    "import cv2 as cv\n",
    "from matplotlib import pyplot as plt\n",
    "#mengimport sebuah pyplot (library) dari matplotlib"
   ]
  },
  {
   "cell_type": "code",
   "execution_count": 2,
   "id": "44294f07",
   "metadata": {},
   "outputs": [],
   "source": [
    "img = cv.imread('tiger.jpg')\n",
    "#membuat variable img untuk menampung suatu fungsi read"
   ]
  },
  {
   "cell_type": "code",
   "execution_count": 3,
   "id": "00c8df6f",
   "metadata": {},
   "outputs": [],
   "source": [
    "cv.imshow('tiger', img)\n",
    "cv.waitKey(1000)\n",
    "cv.destroyAllWindows()\n",
    "#sebuah fungsi untuk menampilkan gambar yang sudah ditampung tadi\n",
    "#waitkey = waktu tunggu jendela akan tertutup, jika diisi selain 0, maka akan otomatis tertutup\n",
    "#cv.destroyAllWindows() untuk menutup program"
   ]
  },
  {
   "cell_type": "code",
   "execution_count": 4,
   "id": "d7b760d3",
   "metadata": {},
   "outputs": [
    {
     "name": "stdout",
     "output_type": "stream",
     "text": [
      "(668, 752, 3)\n"
     ]
    }
   ],
   "source": [
    "print(img.shape)"
   ]
  },
  {
   "cell_type": "code",
   "execution_count": 4,
   "id": "a792c3c6",
   "metadata": {},
   "outputs": [],
   "source": [
    "gray = cv.cvtColor(img, cv.COLOR_BGR2LAB)"
   ]
  },
  {
   "cell_type": "code",
   "execution_count": 5,
   "id": "728b70b5",
   "metadata": {},
   "outputs": [],
   "source": [
    "cv.imshow('Gray', gray)\n",
    "cv.waitKey(0)\n",
    "cv.destroyAllWindows()"
   ]
  },
  {
   "cell_type": "code",
   "execution_count": 8,
   "id": "2528933c",
   "metadata": {},
   "outputs": [
    {
     "name": "stdout",
     "output_type": "stream",
     "text": [
      "(668, 752)\n"
     ]
    }
   ],
   "source": [
    "print(gray.shape)"
   ]
  },
  {
   "cell_type": "code",
   "execution_count": 12,
   "id": "8223c255",
   "metadata": {},
   "outputs": [],
   "source": [
    "(thresh, binary) = cv.threshold(gray, 128, 255, cv.THRESH_BINARY | cv.THRESH_OTSU)"
   ]
  },
  {
   "cell_type": "code",
   "execution_count": 13,
   "id": "ab0600a7",
   "metadata": {},
   "outputs": [],
   "source": [
    "cv.imshow('Gray', binary)\n",
    "cv.waitKey(0)\n",
    "cv.destroyAllWindows()"
   ]
  },
  {
   "cell_type": "code",
   "execution_count": 11,
   "id": "c4424679",
   "metadata": {},
   "outputs": [
    {
     "name": "stdout",
     "output_type": "stream",
     "text": [
      "(668, 752)\n"
     ]
    }
   ],
   "source": [
    "print(binary.shape)"
   ]
  },
  {
   "cell_type": "code",
   "execution_count": null,
   "id": "9958c6f5",
   "metadata": {},
   "outputs": [],
   "source": []
  }
 ],
 "metadata": {
  "kernelspec": {
   "display_name": "Python 3 (ipykernel)",
   "language": "python",
   "name": "python3"
  },
  "language_info": {
   "codemirror_mode": {
    "name": "ipython",
    "version": 3
   },
   "file_extension": ".py",
   "mimetype": "text/x-python",
   "name": "python",
   "nbconvert_exporter": "python",
   "pygments_lexer": "ipython3",
   "version": "3.11.4"
  }
 },
 "nbformat": 4,
 "nbformat_minor": 5
}
