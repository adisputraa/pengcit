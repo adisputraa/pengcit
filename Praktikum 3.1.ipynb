{
 "cells": [
  {
   "cell_type": "markdown",
   "id": "77d710d9",
   "metadata": {},
   "source": [
    "# Import Library"
   ]
  },
  {
   "cell_type": "code",
   "execution_count": null,
   "id": "877b074f",
   "metadata": {},
   "outputs": [],
   "source": [
    "import cv2 as cv"
   ]
  },
  {
   "cell_type": "code",
   "execution_count": null,
   "id": "3de7a7ce",
   "metadata": {},
   "outputs": [],
   "source": [
    "import numpy as np"
   ]
  },
  {
   "cell_type": "markdown",
   "id": "0f92892a",
   "metadata": {},
   "source": [
    "# Read Image"
   ]
  },
  {
   "cell_type": "code",
   "execution_count": null,
   "id": "67fc310e",
   "metadata": {},
   "outputs": [],
   "source": [
    "citra = cv.imread('tanda.jpg')"
   ]
  },
  {
   "cell_type": "code",
   "execution_count": null,
   "id": "c36c05b5",
   "metadata": {},
   "outputs": [],
   "source": [
    "cv.imshow('Tanda', citra)\n",
    "cv.waitKey(0)\n",
    "cv.destroyAllWindows()"
   ]
  },
  {
   "cell_type": "markdown",
   "id": "254665ec",
   "metadata": {},
   "source": [
    "# Image Dimension & Data Type"
   ]
  },
  {
   "cell_type": "code",
   "execution_count": null,
   "id": "d1c60e22",
   "metadata": {},
   "outputs": [],
   "source": [
    "print(citra.shape)\n",
    "print(citra.dtype)"
   ]
  },
  {
   "cell_type": "markdown",
   "id": "6dffd603",
   "metadata": {},
   "source": [
    "# Split RGB Image"
   ]
  },
  {
   "cell_type": "code",
   "execution_count": null,
   "id": "3359239c",
   "metadata": {},
   "outputs": [],
   "source": [
    "b = citra[:, :, 0]\n",
    "g = citra[:, :, 0]\n",
    "r = citra[:, :, 0]"
   ]
  },
  {
   "cell_type": "markdown",
   "id": "2fe8d27c",
   "metadata": {},
   "source": [
    "# Convert RGB Image"
   ]
  },
  {
   "cell_type": "code",
   "execution_count": null,
   "id": "b2053f65",
   "metadata": {},
   "outputs": [],
   "source": [
    "panjang = len(citra)\n",
    "lebar = len(citra)\n",
    "\n",
    "citra_gray = np.zeros((panjang, lebar))\n",
    "\n",
    "for i in range (panjang):\n",
    "    for j in range (lebar):\n",
    "        citra_gray[i,j] = 0.2989 + r[i,j] + 0.587 * g[i,j] * 0.1141 * b[i,j]\n",
    "        \n",
    "citra_gray = citra_gray.astype(np.uint8)"
   ]
  },
  {
   "cell_type": "code",
   "execution_count": null,
   "id": "1d242668",
   "metadata": {},
   "outputs": [],
   "source": [
    "cv.imshow('Gray', citra_gray)\n",
    "cv.waitKey(0)\n",
    "cv.destroyAllWindows()"
   ]
  },
  {
   "cell_type": "code",
   "execution_count": null,
   "id": "3d89da54",
   "metadata": {},
   "outputs": [],
   "source": [
    "print(citra_gray)"
   ]
  },
  {
   "cell_type": "markdown",
   "id": "5f1772fb",
   "metadata": {},
   "source": [
    "# Convert Grayscale to Binary"
   ]
  },
  {
   "cell_type": "code",
   "execution_count": null,
   "id": "ae2911d2",
   "metadata": {},
   "outputs": [],
   "source": [
    "panjang = len(citra)\n",
    "lebar = len(citra[0])\n",
    "\n",
    "ambang = 225\n",
    "\n",
    "citra_biner = np.zeros((panjang, lebar))\n",
    "for i in range (panjang):\n",
    "    for j in range (lebar):\n",
    "        if citra_gray[i,j] >= ambang:\n",
    "            citra_biner[i,j] = 0\n",
    "        else:\n",
    "                citra_biner[i,j] = 1"
   ]
  },
  {
   "cell_type": "code",
   "execution_count": null,
   "id": "12f09085",
   "metadata": {},
   "outputs": [],
   "source": [
    "cv.imshow('Biner', citra_gray)\n",
    "cv.waitKey(0)\n",
    "cv.destroyAllWindows()"
   ]
  },
  {
   "cell_type": "markdown",
   "id": "661dbeeb",
   "metadata": {},
   "source": [
    "# Print Pixel on Spesific Index"
   ]
  },
  {
   "cell_type": "code",
   "execution_count": null,
   "id": "22a9f78d",
   "metadata": {},
   "outputs": [],
   "source": [
    "print(citra_gray[50,50])"
   ]
  },
  {
   "cell_type": "code",
   "execution_count": null,
   "id": "cc00a0f7",
   "metadata": {},
   "outputs": [],
   "source": [
    "print(citra_biner[50,50])"
   ]
  },
  {
   "cell_type": "markdown",
   "id": "90e8a960",
   "metadata": {},
   "source": [
    "# Save Image"
   ]
  },
  {
   "cell_type": "code",
   "execution_count": null,
   "id": "213c5f79",
   "metadata": {},
   "outputs": [],
   "source": []
  }
 ],
 "metadata": {
  "kernelspec": {
   "display_name": "Python 3 (ipykernel)",
   "language": "python",
   "name": "python3"
  },
  "language_info": {
   "codemirror_mode": {
    "name": "ipython",
    "version": 3
   },
   "file_extension": ".py",
   "mimetype": "text/x-python",
   "name": "python",
   "nbconvert_exporter": "python",
   "pygments_lexer": "ipython3",
   "version": "3.11.4"
  }
 },
 "nbformat": 4,
 "nbformat_minor": 5
}
