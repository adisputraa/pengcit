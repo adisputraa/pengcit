{
 "cells": [
  {
   "cell_type": "markdown",
   "id": "7da3dc19",
   "metadata": {},
   "source": [
    "# Import Library"
   ]
  },
  {
   "cell_type": "code",
   "execution_count": 8,
   "id": "e3585d88",
   "metadata": {},
   "outputs": [],
   "source": [
    "import cv2 as cv\n",
    "import numpy as np\n",
    "from matplotlib import pyplot as plt"
   ]
  },
  {
   "cell_type": "code",
   "execution_count": 9,
   "id": "7d696d68",
   "metadata": {},
   "outputs": [],
   "source": [
    "daun = cv.imread('daun.jpg',0)\n",
    "tinggi , lebar = daun.shape"
   ]
  },
  {
   "cell_type": "code",
   "execution_count": 10,
   "id": "2094c14e",
   "metadata": {},
   "outputs": [],
   "source": [
    "cv.imshow(\"Citra Asli\", daun)\n",
    "cv.waitKey(0)\n",
    "cv.destroyAllWindows()"
   ]
  },
  {
   "cell_type": "markdown",
   "id": "5714a103",
   "metadata": {},
   "source": [
    "# Pengembangan Dwi Aras dengan Perkiraan Nilai Ambang"
   ]
  },
  {
   "cell_type": "code",
   "execution_count": 24,
   "id": "7a1a7f2f",
   "metadata": {},
   "outputs": [],
   "source": [
    "nilai_ambang = 131 # semakin tinggi nilai ambang yang digunakan, maka gambar\n",
    "                   # yang akan ditampilkan adalah semakin banyak warna hitam\n",
    "                   # dan putihnya\n",
    "daun_hasil = daun.copy()\n",
    "for x in range (tinggi):\n",
    "    for y in range (lebar):\n",
    "        if daun[x,y] < nilai_ambang:\n",
    "            daun_hasil[x,y] = 0\n",
    "        else:\n",
    "            daun_hasil[x,y] = 225"
   ]
  },
  {
   "cell_type": "code",
   "execution_count": 25,
   "id": "0574ad62",
   "metadata": {},
   "outputs": [],
   "source": [
    "cv.imshow(\"Aras Daun\", daun_hasil)\n",
    "cv.waitKey(0)\n",
    "cv.destroyAllWindows()"
   ]
  },
  {
   "cell_type": "markdown",
   "id": "c574b8d7",
   "metadata": {},
   "source": [
    "# Menentukan nilai ambang suatu citra"
   ]
  },
  {
   "cell_type": "code",
   "execution_count": 13,
   "id": "d186e494",
   "metadata": {},
   "outputs": [],
   "source": [
    "def titeratif(image):\n",
    "    tinggi, lebar =  image.shape\n",
    "    t0 = 127\n",
    "    while(True):\n",
    "        rata_kiri = 0;\n",
    "        rata_kanan = 0;\n",
    "        jum_kiri = 0;\n",
    "        jum_kanan = 0;\n",
    "        for x in range(tinggi):\n",
    "            for y in range(lebar):\n",
    "                if(image[x,y] <= 127):\n",
    "                    rata_kiri = rata_kiri + image[x,y]\n",
    "                    jum_kiri = jum_kiri + 1\n",
    "                else:\n",
    "                    rata_kanan = rata_kanan + image[x,y]\n",
    "                    jum_kanan = jum_kanan + 1\n",
    "                    \n",
    "                    \n",
    "        rata_kiri = rata_kiri / jum_kiri\n",
    "        rata_kanan = rata_kanan / jum_kanan\n",
    "        t1 = (rata_kiri + rata_kanan) / 2\n",
    "        if((t0 - t1) < 1):\n",
    "            break\n",
    "        t0 = t1\n",
    "    return round(t1)"
   ]
  },
  {
   "cell_type": "code",
   "execution_count": 14,
   "id": "dc549e25",
   "metadata": {},
   "outputs": [
    {
     "data": {
      "text/plain": [
       "131"
      ]
     },
     "execution_count": 14,
     "metadata": {},
     "output_type": "execute_result"
    }
   ],
   "source": [
    "titeratif(daun)"
   ]
  },
  {
   "cell_type": "markdown",
   "id": "bfdfeccc",
   "metadata": {},
   "source": [
    "# Aras Jamak"
   ]
  },
  {
   "cell_type": "code",
   "execution_count": 27,
   "id": "a0c3b3a8",
   "metadata": {},
   "outputs": [],
   "source": [
    "bentuk = cv.imread('arasjamak.jpg',0) # parameter 0 menandakan akan dibaca\n",
    "                                     # dalam skala grayscale\n",
    "tinggi, lebar = bentuk.shape # untuk mendapatkan dimensi citra"
   ]
  },
  {
   "cell_type": "code",
   "execution_count": 28,
   "id": "1ca8b570",
   "metadata": {},
   "outputs": [],
   "source": [
    "def arasjamak(image, t1, t2):\n",
    "    res = image \n",
    "    m,n = image.shape\n",
    "    for x in range(m):\n",
    "        for y in range(n):\n",
    "            if (image[x,y] <= t1) or (image[x,y] >= t2):\n",
    "                res[x,y] = 0\n",
    "            else:\n",
    "                res[x,y] = 255\n",
    "    return res"
   ]
  },
  {
   "cell_type": "code",
   "execution_count": 29,
   "id": "53a541bb",
   "metadata": {},
   "outputs": [],
   "source": [
    "bentukArasJamak = arasjamak(bentuk, 185, 200)"
   ]
  },
  {
   "cell_type": "code",
   "execution_count": 30,
   "id": "de9b4d57",
   "metadata": {},
   "outputs": [],
   "source": [
    "cv.imshow('Gambar Aras Jamak', bentukArasJamak)\n",
    "cv.waitKey(0)\n",
    "cv.destroyAllWindows()"
   ]
  },
  {
   "cell_type": "code",
   "execution_count": null,
   "id": "ad72a19d",
   "metadata": {},
   "outputs": [],
   "source": []
  }
 ],
 "metadata": {
  "kernelspec": {
   "display_name": "Python 3 (ipykernel)",
   "language": "python",
   "name": "python3"
  },
  "language_info": {
   "codemirror_mode": {
    "name": "ipython",
    "version": 3
   },
   "file_extension": ".py",
   "mimetype": "text/x-python",
   "name": "python",
   "nbconvert_exporter": "python",
   "pygments_lexer": "ipython3",
   "version": "3.11.4"
  }
 },
 "nbformat": 4,
 "nbformat_minor": 5
}
