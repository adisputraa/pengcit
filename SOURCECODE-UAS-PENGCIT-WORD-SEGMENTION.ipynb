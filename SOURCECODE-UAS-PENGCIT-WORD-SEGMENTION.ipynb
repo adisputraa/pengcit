{
 "cells": [
  {
   "cell_type": "markdown",
   "id": "bcf1ddae",
   "metadata": {},
   "source": [
    "## UAS-PENGCIT-MUHAMMADGAMAL-202131035"
   ]
  },
  {
   "cell_type": "code",
   "execution_count": 4,
   "id": "0f162c96",
   "metadata": {},
   "outputs": [],
   "source": [
    "import matplotlib.pyplot as plt\n",
    "from skimage import io, color, measure"
   ]
  },
  {
   "cell_type": "code",
   "execution_count": 1,
   "id": "7b322962",
   "metadata": {},
   "outputs": [
    {
     "ename": "error",
     "evalue": "OpenCV(4.7.0) D:\\a\\opencv-python\\opencv-python\\opencv\\modules\\imgproc\\src\\color.cpp:182: error: (-215:Assertion failed) !_src.empty() in function 'cv::cvtColor'\n",
     "output_type": "error",
     "traceback": [
      "\u001b[1;31m---------------------------------------------------------------------------\u001b[0m",
      "\u001b[1;31merror\u001b[0m                                     Traceback (most recent call last)",
      "Cell \u001b[1;32mIn[1], line 44\u001b[0m\n\u001b[0;32m     41\u001b[0m gambar \u001b[38;5;241m=\u001b[39m cv2\u001b[38;5;241m.\u001b[39mimread(\u001b[38;5;124m'\u001b[39m\u001b[38;5;124mnama.jpg\u001b[39m\u001b[38;5;124m'\u001b[39m)\n\u001b[0;32m     43\u001b[0m \u001b[38;5;66;03m# Panggil fungsi deteksi_karakter_huruf dan tampilkan hasilnya\u001b[39;00m\n\u001b[1;32m---> 44\u001b[0m hasil \u001b[38;5;241m=\u001b[39m \u001b[43mdeteksi_karakter_huruf\u001b[49m\u001b[43m(\u001b[49m\u001b[43mgambar\u001b[49m\u001b[43m)\u001b[49m\n\u001b[0;32m     45\u001b[0m \u001b[38;5;28mprint\u001b[39m(\u001b[38;5;124m\"\u001b[39m\u001b[38;5;124mKarakter huruf yang terdeteksi:\u001b[39m\u001b[38;5;124m\"\u001b[39m)\n\u001b[0;32m     46\u001b[0m \u001b[38;5;28mprint\u001b[39m(hasil)\n",
      "Cell \u001b[1;32mIn[1], line 9\u001b[0m, in \u001b[0;36mdeteksi_karakter_huruf\u001b[1;34m(gambar)\u001b[0m\n\u001b[0;32m      7\u001b[0m \u001b[38;5;28;01mdef\u001b[39;00m \u001b[38;5;21mdeteksi_karakter_huruf\u001b[39m(gambar):\n\u001b[0;32m      8\u001b[0m     \u001b[38;5;66;03m# Mengubah gambar ke dalam skala abu-abu\u001b[39;00m\n\u001b[1;32m----> 9\u001b[0m     gray \u001b[38;5;241m=\u001b[39m \u001b[43mcv2\u001b[49m\u001b[38;5;241;43m.\u001b[39;49m\u001b[43mcvtColor\u001b[49m\u001b[43m(\u001b[49m\u001b[43mgambar\u001b[49m\u001b[43m,\u001b[49m\u001b[43m \u001b[49m\u001b[43mcv2\u001b[49m\u001b[38;5;241;43m.\u001b[39;49m\u001b[43mCOLOR_BGR2GRAY\u001b[49m\u001b[43m)\u001b[49m\n\u001b[0;32m     11\u001b[0m     \u001b[38;5;66;03m# Mengaplikasikan thresholding adaptif untuk meningkatkan kontras\u001b[39;00m\n\u001b[0;32m     12\u001b[0m     threshold \u001b[38;5;241m=\u001b[39m cv2\u001b[38;5;241m.\u001b[39madaptiveThreshold(gray, \u001b[38;5;241m255\u001b[39m, cv2\u001b[38;5;241m.\u001b[39mADAPTIVE_THRESH_GAUSSIAN_C, cv2\u001b[38;5;241m.\u001b[39mTHRESH_BINARY, \u001b[38;5;241m11\u001b[39m, \u001b[38;5;241m2\u001b[39m)\n",
      "\u001b[1;31merror\u001b[0m: OpenCV(4.7.0) D:\\a\\opencv-python\\opencv-python\\opencv\\modules\\imgproc\\src\\color.cpp:182: error: (-215:Assertion failed) !_src.empty() in function 'cv::cvtColor'\n"
     ]
    }
   ],
   "source": [
    "import cv2\n",
    "import numpy as np\n",
    "import matplotlib.pyplot as plt\n",
    "from skimage import io, color, measure\n",
    "\n",
    "# Fungsi untuk mendeteksi dan mengenali karakter huruf pada gambar\n",
    "def deteksi_karakter_huruf(gambar):\n",
    "    # Mengubah gambar ke dalam skala abu-abu\n",
    "    gray = cv2.cvtColor(gambar, cv2.COLOR_BGR2GRAY)\n",
    "\n",
    "    # Mengaplikasikan thresholding adaptif untuk meningkatkan kontras\n",
    "    threshold = cv2.adaptiveThreshold(gray, 255, cv2.ADAPTIVE_THRESH_GAUSSIAN_C, cv2.THRESH_BINARY, 11, 2)\n",
    "\n",
    "    # Mendeteksi kontur pada gambar\n",
    "    contours, _ = cv2.findContours(threshold, cv2.RETR_EXTERNAL, cv2.CHAIN_APPROX_SIMPLE)\n",
    "\n",
    "    karakter_huruf = []\n",
    "\n",
    "    # Melakukan iterasi pada setiap kontur\n",
    "    for contour in contours:\n",
    "        # Mengabaikan kontur yang terlalu kecil\n",
    "        if cv2.contourArea(contour) > 100:\n",
    "            # Mendapatkan koordinat bounding box dari kontur\n",
    "            (x, y, w, h) = cv2.boundingRect(contour)\n",
    "\n",
    "            # Memotong bagian gambar yang berisi kontur karakter huruf\n",
    "            roi = gray[y:y + h, x:x + w]\n",
    "\n",
    "            # Menggunakan Metode Labeling untuk mengenali karakter huruf\n",
    "            labeled_image = measure.label(roi, connectivity=2)\n",
    "            regions = measure.regionprops(labeled_image)\n",
    "\n",
    "            # Mengambil karakter dari properti region\n",
    "            for region in regions:\n",
    "                karakter = region.label\n",
    "                karakter_huruf.append(chr(karakter))\n",
    "\n",
    "    return karakter_huruf\n",
    "\n",
    "# Baca gambar\n",
    "gambar = cv2.imread('nama.jpg')\n",
    "\n",
    "# Panggil fungsi deteksi_karakter_huruf dan tampilkan hasilnya\n",
    "hasil = deteksi_karakter_huruf(gambar)\n",
    "print(\"Karakter huruf yang terdeteksi:\")\n",
    "print(hasil)"
   ]
  },
  {
   "cell_type": "code",
   "execution_count": null,
   "id": "2509beaf",
   "metadata": {},
   "outputs": [],
   "source": []
  }
 ],
 "metadata": {
  "kernelspec": {
   "display_name": "Python 3 (ipykernel)",
   "language": "python",
   "name": "python3"
  },
  "language_info": {
   "codemirror_mode": {
    "name": "ipython",
    "version": 3
   },
   "file_extension": ".py",
   "mimetype": "text/x-python",
   "name": "python",
   "nbconvert_exporter": "python",
   "pygments_lexer": "ipython3",
   "version": "3.11.4"
  }
 },
 "nbformat": 4,
 "nbformat_minor": 5
}
