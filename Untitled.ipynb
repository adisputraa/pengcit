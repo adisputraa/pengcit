{
 "cells": [
  {
   "cell_type": "code",
   "execution_count": 9,
   "id": "fdcaf5d8",
   "metadata": {},
   "outputs": [],
   "source": [
    "import cv2\n",
    "import numpy as np\n",
    "from matplotlib import pyplot as plt"
   ]
  },
  {
   "cell_type": "code",
   "execution_count": 10,
   "id": "967247e8",
   "metadata": {},
   "outputs": [],
   "source": [
    "# Load citra\n",
    "img = cv2.imread('tiger.png')"
   ]
  },
  {
   "cell_type": "code",
   "execution_count": 11,
   "id": "85a886e6",
   "metadata": {},
   "outputs": [],
   "source": [
    "# Buat citra kosong dengan ukuran yang sama dengan citra asli\n",
    "mirror_img = np.zeros_like(img)"
   ]
  },
  {
   "cell_type": "code",
   "execution_count": 12,
   "id": "9d5504d1",
   "metadata": {},
   "outputs": [
    {
     "name": "stdout",
     "output_type": "stream",
     "text": [
      "Masukkan mode cermin (h = horizontal, v = vertikal): v\n"
     ]
    },
    {
     "ename": "AttributeError",
     "evalue": "'NoneType' object has no attribute 'shape'",
     "output_type": "error",
     "traceback": [
      "\u001b[1;31m---------------------------------------------------------------------------\u001b[0m",
      "\u001b[1;31mAttributeError\u001b[0m                            Traceback (most recent call last)",
      "Cell \u001b[1;32mIn[12], line 12\u001b[0m\n\u001b[0;32m      8\u001b[0m             mirror_img[i,j] \u001b[38;5;241m=\u001b[39m img[i, img\u001b[38;5;241m.\u001b[39mshape[\u001b[38;5;241m1\u001b[39m]\u001b[38;5;241m-\u001b[39mj\u001b[38;5;241m-\u001b[39m\u001b[38;5;241m1\u001b[39m]\n\u001b[0;32m     10\u001b[0m \u001b[38;5;28;01melif\u001b[39;00m mode \u001b[38;5;241m==\u001b[39m \u001b[38;5;124m\"\u001b[39m\u001b[38;5;124mv\u001b[39m\u001b[38;5;124m\"\u001b[39m:\n\u001b[0;32m     11\u001b[0m     \u001b[38;5;66;03m# Looping untuk setiap pixel pada citra dan mencerminkan secara vertikal\u001b[39;00m\n\u001b[1;32m---> 12\u001b[0m     \u001b[38;5;28;01mfor\u001b[39;00m i \u001b[38;5;129;01min\u001b[39;00m \u001b[38;5;28mrange\u001b[39m(\u001b[43mimg\u001b[49m\u001b[38;5;241;43m.\u001b[39;49m\u001b[43mshape\u001b[49m[\u001b[38;5;241m0\u001b[39m]):\n\u001b[0;32m     13\u001b[0m         \u001b[38;5;28;01mfor\u001b[39;00m j \u001b[38;5;129;01min\u001b[39;00m \u001b[38;5;28mrange\u001b[39m(img\u001b[38;5;241m.\u001b[39mshape[\u001b[38;5;241m1\u001b[39m]):\n\u001b[0;32m     14\u001b[0m             mirror_img[i,j] \u001b[38;5;241m=\u001b[39m img[img\u001b[38;5;241m.\u001b[39mshape[\u001b[38;5;241m0\u001b[39m]\u001b[38;5;241m-\u001b[39mi\u001b[38;5;241m-\u001b[39m\u001b[38;5;241m1\u001b[39m, j]\n",
      "\u001b[1;31mAttributeError\u001b[0m: 'NoneType' object has no attribute 'shape'"
     ]
    }
   ],
   "source": [
    "# Pilihan cara mencerminkan citra\n",
    "mode = input(\"Masukkan mode cermin (h = horizontal, v = vertikal): \")\n",
    "\n",
    "if mode == \"h\":\n",
    "    # Looping untuk setiap pixel pada citra dan mencerminkan secara horizontal\n",
    "    for i in range(img.shape[0]):\n",
    "        for j in range(img.shape[1]):\n",
    "            mirror_img[i,j] = img[i, img.shape[1]-j-1]\n",
    "            \n",
    "elif mode == \"v\":\n",
    "    # Looping untuk setiap pixel pada citra dan mencerminkan secara vertikal\n",
    "    for i in range(img.shape[0]):\n",
    "        for j in range(img.shape[1]):\n",
    "            mirror_img[i,j] = img[img.shape[0]-i-1, j]\n",
    "\n",
    "else:\n",
    "    print(\"Mode tidak dikenali.\")"
   ]
  },
  {
   "cell_type": "code",
   "execution_count": null,
   "id": "899af423",
   "metadata": {},
   "outputs": [],
   "source": [
    "# Tampilkan citra yang telah dicerminkan\n",
    "cv2.imshow(\"Citra Cerminkan\", mirror_img)\n",
    "\n",
    "# Simpan citra yang telah dicerminkan jika diperlukan\n",
    "cv2.imwrite(\"nama_file_citra_cerminkan.png\", mirror_img)\n",
    "\n",
    "cv2.waitKey(0)\n",
    "cv2.destroyAllWindows()"
   ]
  },
  {
   "cell_type": "code",
   "execution_count": null,
   "id": "d401bf45",
   "metadata": {},
   "outputs": [],
   "source": []
  }
 ],
 "metadata": {
  "kernelspec": {
   "display_name": "Python 3 (ipykernel)",
   "language": "python",
   "name": "python3"
  },
  "language_info": {
   "codemirror_mode": {
    "name": "ipython",
    "version": 3
   },
   "file_extension": ".py",
   "mimetype": "text/x-python",
   "name": "python",
   "nbconvert_exporter": "python",
   "pygments_lexer": "ipython3",
   "version": "3.11.2"
  }
 },
 "nbformat": 4,
 "nbformat_minor": 5
}
