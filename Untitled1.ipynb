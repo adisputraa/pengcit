{
 "cells": [
  {
   "cell_type": "code",
   "execution_count": 5,
   "id": "7a63f71d",
   "metadata": {},
   "outputs": [],
   "source": [
    "import cv2\n",
    "import numpy as np"
   ]
  },
  {
   "cell_type": "code",
   "execution_count": 6,
   "id": "894f12b3",
   "metadata": {},
   "outputs": [],
   "source": [
    "# Load gambar\n",
    "img = cv2.imread('tiger.jpg')"
   ]
  },
  {
   "cell_type": "code",
   "execution_count": 7,
   "id": "1f2192a5",
   "metadata": {},
   "outputs": [],
   "source": [
    "# Tentukan lebar dan tinggi gambar\n",
    "h, w = img.shape[:2]"
   ]
  },
  {
   "cell_type": "code",
   "execution_count": 8,
   "id": "e52ce532",
   "metadata": {},
   "outputs": [],
   "source": [
    "# Buat gambar kosong dengan lebar dan tinggi yang sama dengan gambar asli\n",
    "img_flip = np.zeros((h, w, 3), dtype=np.uint8)"
   ]
  },
  {
   "cell_type": "code",
   "execution_count": 9,
   "id": "f96bb1fb",
   "metadata": {},
   "outputs": [],
   "source": [
    "# Lakukan perulangan untuk setiap baris pada gambar\n",
    "for i in range(h):\n",
    "    # Lakukan perulangan untuk setiap kolom pada gambar\n",
    "    for j in range(w):\n",
    "        # Ambil nilai pixel pada posisi (i, j) pada gambar asli\n",
    "        pixel = img[i, j]\n",
    "\n",
    "        # Letakkan nilai pixel tersebut pada posisi (i, w-j-1) pada gambar kosong untuk mencerminkan secara horizontal\n",
    "        img_flip[i, w-j-1] = pixel\n",
    "\n",
    "        # Letakkan nilai pixel tersebut pada posisi (h-i-1, j) pada gambar kosong untuk mencerminkan secara vertikal\n",
    "        img_flip[h-i-1, j] = pixel"
   ]
  },
  {
   "cell_type": "code",
   "execution_count": null,
   "id": "f80322a4",
   "metadata": {},
   "outputs": [],
   "source": [
    "# Tampilkan gambar asli dan hasil yang dicerminkan\n",
    "cv2.imshow('Original', img)\n",
    "cv2.imshow('Flipped', img_flip)\n",
    "\n",
    "# Tunggu hingga tombol apa saja ditekan\n",
    "cv2.waitKey(0)\n",
    "\n",
    "# Tutup semua jendela yang dibuka\n",
    "cv2.destroyAllWindows()"
   ]
  },
  {
   "cell_type": "code",
   "execution_count": null,
   "id": "6d59c10a",
   "metadata": {},
   "outputs": [],
   "source": []
  }
 ],
 "metadata": {
  "kernelspec": {
   "display_name": "Python 3 (ipykernel)",
   "language": "python",
   "name": "python3"
  },
  "language_info": {
   "codemirror_mode": {
    "name": "ipython",
    "version": 3
   },
   "file_extension": ".py",
   "mimetype": "text/x-python",
   "name": "python",
   "nbconvert_exporter": "python",
   "pygments_lexer": "ipython3",
   "version": "3.11.2"
  }
 },
 "nbformat": 4,
 "nbformat_minor": 5
}
