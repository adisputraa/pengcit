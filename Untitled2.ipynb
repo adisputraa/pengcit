{
 "cells": [
  {
   "cell_type": "code",
   "execution_count": 9,
   "id": "0773c88f",
   "metadata": {},
   "outputs": [],
   "source": [
    "import cv2\n",
    "import numpy as np\n",
    "from matplotlib import pyplot as plt"
   ]
  },
  {
   "cell_type": "code",
   "execution_count": 10,
   "id": "ebfd4276",
   "metadata": {},
   "outputs": [],
   "source": [
    "# Membaca gambar\n",
    "F = cv2.imread('tiger.jpg', cv2.IMREAD_COLOR)\n",
    "\n",
    "# Mendapatkan tinggi dan lebar gambar\n",
    "tinggi, lebar, channel = F.shape\n",
    "\n",
    "# Membuat matriks kosong untuk hasil pencerminan\n",
    "G = np.zeros((tinggi, lebar, channel), dtype=np.uint8)\n",
    "\n",
    "# Melakukan pencerminan secara horizontal dan vertikal\n",
    "for y in range(tinggi):\n",
    "    for x in range(lebar):\n",
    "        x2 = lebar - x - 1\n",
    "        y2 = tinggi - y - 1\n",
    "        G[y][x] = F[y2][x2]\n",
    "\n",
    "# Menampilkan gambar hasil pencerminan\n",
    "cv2.imshow('Gambar Asli', F)\n",
    "cv2.imshow('Gambar Hasil Pencerminan', G)\n",
    "\n",
    "# Menunggu input dari keyboard dan menutup jendela program\n",
    "cv2.waitKey(0)\n",
    "cv2.destroyAllWindows()"
   ]
  },
  {
   "cell_type": "code",
   "execution_count": null,
   "id": "9270f4f2",
   "metadata": {},
   "outputs": [],
   "source": []
  }
 ],
 "metadata": {
  "kernelspec": {
   "display_name": "Python 3 (ipykernel)",
   "language": "python",
   "name": "python3"
  },
  "language_info": {
   "codemirror_mode": {
    "name": "ipython",
    "version": 3
   },
   "file_extension": ".py",
   "mimetype": "text/x-python",
   "name": "python",
   "nbconvert_exporter": "python",
   "pygments_lexer": "ipython3",
   "version": "3.11.2"
  }
 },
 "nbformat": 4,
 "nbformat_minor": 5
}
