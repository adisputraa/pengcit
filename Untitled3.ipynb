{
 "cells": [
  {
   "cell_type": "code",
   "execution_count": 6,
   "id": "439361be",
   "metadata": {},
   "outputs": [],
   "source": [
    "import cv2\n",
    "import numpy as np"
   ]
  },
  {
   "cell_type": "code",
   "execution_count": 7,
   "id": "d4387acb",
   "metadata": {},
   "outputs": [],
   "source": [
    "# membaca gambar berwarna\n",
    "F = cv2.imread(\"tiger.jpg\", cv2.IMREAD_COLOR)\n",
    "\n",
    "# mendapatkan dimensi gambar\n",
    "tinggi, lebar, channel = F.shape\n",
    "\n",
    "# membuat citra kosong untuk hasil pencerminan\n",
    "G = np.zeros((tinggi, lebar, channel), dtype=np.uint8)\n",
    "\n",
    "# melakukan pencerminan vertikal pada setiap saluran warna\n",
    "for c in range(channel):\n",
    "    for y in range(tinggi):\n",
    "        for x in range(lebar):\n",
    "            x2 = x\n",
    "            y2 = tinggi - y - 1\n",
    "            G[y, x, c] = F[y2, x2, c]\n",
    "\n",
    "# menampilkan citra hasil pencerminan\n",
    "cv2.imshow(\"Hasil Pencerminan\", G)\n",
    "cv2.waitKey(0)\n",
    "cv2.destroyAllWindows()"
   ]
  },
  {
   "cell_type": "code",
   "execution_count": null,
   "id": "ae070bc0",
   "metadata": {},
   "outputs": [],
   "source": []
  }
 ],
 "metadata": {
  "kernelspec": {
   "display_name": "Python 3 (ipykernel)",
   "language": "python",
   "name": "python3"
  },
  "language_info": {
   "codemirror_mode": {
    "name": "ipython",
    "version": 3
   },
   "file_extension": ".py",
   "mimetype": "text/x-python",
   "name": "python",
   "nbconvert_exporter": "python",
   "pygments_lexer": "ipython3",
   "version": "3.11.2"
  }
 },
 "nbformat": 4,
 "nbformat_minor": 5
}
